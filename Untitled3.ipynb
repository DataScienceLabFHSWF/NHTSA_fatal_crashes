{
 "cells": [
  {
   "cell_type": "code",
   "execution_count": 1,
   "id": "382e5124",
   "metadata": {},
   "outputs": [],
   "source": [
    "from bs4 import BeautifulSoup\n",
    "import requests"
   ]
  },
  {
   "cell_type": "code",
   "execution_count": 2,
   "id": "cbd57d3a",
   "metadata": {},
   "outputs": [],
   "source": [
    "url = 'https://www.nhtsa.gov/file-downloads?p=nhtsa/downloads/FARS/'"
   ]
  },
  {
   "cell_type": "code",
   "execution_count": 4,
   "id": "48ff2871",
   "metadata": {},
   "outputs": [],
   "source": [
    "site = requests.get(url).text"
   ]
  },
  {
   "cell_type": "code",
   "execution_count": 5,
   "id": "48c6cdda",
   "metadata": {},
   "outputs": [],
   "source": [
    "soup = BeautifulSoup(site,'html.parser')"
   ]
  },
  {
   "cell_type": "code",
   "execution_count": 35,
   "id": "51f2965b",
   "metadata": {},
   "outputs": [
    {
     "ename": "SyntaxError",
     "evalue": "invalid syntax (<ipython-input-35-32e2de7d1b75>, line 1)",
     "output_type": "error",
     "traceback": [
      "\u001b[1;36m  File \u001b[1;32m\"<ipython-input-35-32e2de7d1b75>\"\u001b[1;36m, line \u001b[1;32m1\u001b[0m\n\u001b[1;33m    soup.find_all('a',{:'\"file-downloads?'})\u001b[0m\n\u001b[1;37m                       ^\u001b[0m\n\u001b[1;31mSyntaxError\u001b[0m\u001b[1;31m:\u001b[0m invalid syntax\n"
     ]
    }
   ],
   "source": [
    "soup.find_all('a',)"
   ]
  },
  {
   "cell_type": "code",
   "execution_count": 25,
   "id": "ae906390",
   "metadata": {},
   "outputs": [
    {
     "ename": "AttributeError",
     "evalue": "ResultSet object has no attribute 'find_all_next'. You're probably treating a list of elements like a single element. Did you call find_all() when you meant to call find()?",
     "output_type": "error",
     "traceback": [
      "\u001b[1;31m---------------------------------------------------------------------------\u001b[0m",
      "\u001b[1;31mAttributeError\u001b[0m                            Traceback (most recent call last)",
      "\u001b[1;32m<ipython-input-25-65544cbbf43b>\u001b[0m in \u001b[0;36m<module>\u001b[1;34m\u001b[0m\n\u001b[1;32m----> 1\u001b[1;33m \u001b[0mbetter_soup\u001b[0m \u001b[1;33m=\u001b[0m \u001b[0msoup\u001b[0m\u001b[1;33m.\u001b[0m\u001b[0mfind\u001b[0m\u001b[1;33m(\u001b[0m\u001b[1;34m\"table\"\u001b[0m\u001b[1;33m)\u001b[0m\u001b[1;33m.\u001b[0m\u001b[0mfind_all\u001b[0m\u001b[1;33m(\u001b[0m\u001b[1;34m\"td\"\u001b[0m\u001b[1;33m)\u001b[0m\u001b[1;33m.\u001b[0m\u001b[0mfind_all_next\u001b[0m\u001b[1;33m(\u001b[0m\u001b[1;34m\"a\"\u001b[0m\u001b[1;33m)\u001b[0m\u001b[1;33m\u001b[0m\u001b[1;33m\u001b[0m\u001b[0m\n\u001b[0m",
      "\u001b[1;32m~\\anaconda3\\lib\\site-packages\\bs4\\element.py\u001b[0m in \u001b[0;36m__getattr__\u001b[1;34m(self, key)\u001b[0m\n\u001b[0;32m   2171\u001b[0m     \u001b[1;32mdef\u001b[0m \u001b[0m__getattr__\u001b[0m\u001b[1;33m(\u001b[0m\u001b[0mself\u001b[0m\u001b[1;33m,\u001b[0m \u001b[0mkey\u001b[0m\u001b[1;33m)\u001b[0m\u001b[1;33m:\u001b[0m\u001b[1;33m\u001b[0m\u001b[1;33m\u001b[0m\u001b[0m\n\u001b[0;32m   2172\u001b[0m         \u001b[1;34m\"\"\"Raise a helpful exception to explain a common code fix.\"\"\"\u001b[0m\u001b[1;33m\u001b[0m\u001b[1;33m\u001b[0m\u001b[0m\n\u001b[1;32m-> 2173\u001b[1;33m         raise AttributeError(\n\u001b[0m\u001b[0;32m   2174\u001b[0m             \u001b[1;34m\"ResultSet object has no attribute '%s'. You're probably treating a list of elements like a single element. Did you call find_all() when you meant to call find()?\"\u001b[0m \u001b[1;33m%\u001b[0m \u001b[0mkey\u001b[0m\u001b[1;33m\u001b[0m\u001b[1;33m\u001b[0m\u001b[0m\n\u001b[0;32m   2175\u001b[0m         )\n",
      "\u001b[1;31mAttributeError\u001b[0m: ResultSet object has no attribute 'find_all_next'. You're probably treating a list of elements like a single element. Did you call find_all() when you meant to call find()?"
     ]
    }
   ],
   "source": [
    "better_soup = soup.find(\"table\").find_all(\"td\").find_all_next(\"a\")"
   ]
  },
  {
   "cell_type": "code",
   "execution_count": 42,
   "id": "56bed8b5",
   "metadata": {},
   "outputs": [],
   "source": [
    " b = soup.select('a[href*=\"file-downloads\"]')"
   ]
  },
  {
   "cell_type": "code",
   "execution_count": 43,
   "id": "369514b7",
   "metadata": {},
   "outputs": [
    {
     "data": {
      "text/plain": [
       "bs4.element.ResultSet"
      ]
     },
     "execution_count": 43,
     "metadata": {},
     "output_type": "execute_result"
    }
   ],
   "source": [
    "type(b)"
   ]
  },
  {
   "cell_type": "code",
   "execution_count": 47,
   "id": "fa8ce5ed",
   "metadata": {},
   "outputs": [
    {
     "data": {
      "text/plain": [
       "[<a href=\"/file-downloads?p=nhtsa/downloads/\"><img src=\"/sites/nhtsa.gov/modules/nhtsa_s3/images/up.png\" width=\"16px\"/></a>,\n",
       " <a href=\"/file-downloads?p=nhtsa/downloads/\">Up</a>,\n",
       " <a href=\"file-downloads?p=nhtsa/downloads/FARS/0_READ ME Before Downloading Files/\"><img src=\"/sites/nhtsa.gov/modules/nhtsa_s3/images/dir.png\" width=\"16px\"/></a>,\n",
       " <a href=\"file-downloads?p=nhtsa/downloads/FARS/0_READ ME Before Downloading Files/\">0_READ ME Before Downloading Files/</a>,\n",
       " <a href=\"file-downloads?p=nhtsa/downloads/FARS/1975/\"><img src=\"/sites/nhtsa.gov/modules/nhtsa_s3/images/dir.png\" width=\"16px\"/></a>,\n",
       " <a href=\"file-downloads?p=nhtsa/downloads/FARS/1975/\">1975/</a>,\n",
       " <a href=\"file-downloads?p=nhtsa/downloads/FARS/1976/\"><img src=\"/sites/nhtsa.gov/modules/nhtsa_s3/images/dir.png\" width=\"16px\"/></a>,\n",
       " <a href=\"file-downloads?p=nhtsa/downloads/FARS/1976/\">1976/</a>,\n",
       " <a href=\"file-downloads?p=nhtsa/downloads/FARS/1977/\"><img src=\"/sites/nhtsa.gov/modules/nhtsa_s3/images/dir.png\" width=\"16px\"/></a>,\n",
       " <a href=\"file-downloads?p=nhtsa/downloads/FARS/1977/\">1977/</a>,\n",
       " <a href=\"file-downloads?p=nhtsa/downloads/FARS/1978/\"><img src=\"/sites/nhtsa.gov/modules/nhtsa_s3/images/dir.png\" width=\"16px\"/></a>,\n",
       " <a href=\"file-downloads?p=nhtsa/downloads/FARS/1978/\">1978/</a>,\n",
       " <a href=\"file-downloads?p=nhtsa/downloads/FARS/1979/\"><img src=\"/sites/nhtsa.gov/modules/nhtsa_s3/images/dir.png\" width=\"16px\"/></a>,\n",
       " <a href=\"file-downloads?p=nhtsa/downloads/FARS/1979/\">1979/</a>,\n",
       " <a href=\"file-downloads?p=nhtsa/downloads/FARS/1980/\"><img src=\"/sites/nhtsa.gov/modules/nhtsa_s3/images/dir.png\" width=\"16px\"/></a>,\n",
       " <a href=\"file-downloads?p=nhtsa/downloads/FARS/1980/\">1980/</a>,\n",
       " <a href=\"file-downloads?p=nhtsa/downloads/FARS/1981/\"><img src=\"/sites/nhtsa.gov/modules/nhtsa_s3/images/dir.png\" width=\"16px\"/></a>,\n",
       " <a href=\"file-downloads?p=nhtsa/downloads/FARS/1981/\">1981/</a>,\n",
       " <a href=\"file-downloads?p=nhtsa/downloads/FARS/1982/\"><img src=\"/sites/nhtsa.gov/modules/nhtsa_s3/images/dir.png\" width=\"16px\"/></a>,\n",
       " <a href=\"file-downloads?p=nhtsa/downloads/FARS/1982/\">1982/</a>,\n",
       " <a href=\"file-downloads?p=nhtsa/downloads/FARS/1983/\"><img src=\"/sites/nhtsa.gov/modules/nhtsa_s3/images/dir.png\" width=\"16px\"/></a>,\n",
       " <a href=\"file-downloads?p=nhtsa/downloads/FARS/1983/\">1983/</a>,\n",
       " <a href=\"file-downloads?p=nhtsa/downloads/FARS/1984/\"><img src=\"/sites/nhtsa.gov/modules/nhtsa_s3/images/dir.png\" width=\"16px\"/></a>,\n",
       " <a href=\"file-downloads?p=nhtsa/downloads/FARS/1984/\">1984/</a>,\n",
       " <a href=\"file-downloads?p=nhtsa/downloads/FARS/1985/\"><img src=\"/sites/nhtsa.gov/modules/nhtsa_s3/images/dir.png\" width=\"16px\"/></a>,\n",
       " <a href=\"file-downloads?p=nhtsa/downloads/FARS/1985/\">1985/</a>,\n",
       " <a href=\"file-downloads?p=nhtsa/downloads/FARS/1986/\"><img src=\"/sites/nhtsa.gov/modules/nhtsa_s3/images/dir.png\" width=\"16px\"/></a>,\n",
       " <a href=\"file-downloads?p=nhtsa/downloads/FARS/1986/\">1986/</a>,\n",
       " <a href=\"file-downloads?p=nhtsa/downloads/FARS/1987/\"><img src=\"/sites/nhtsa.gov/modules/nhtsa_s3/images/dir.png\" width=\"16px\"/></a>,\n",
       " <a href=\"file-downloads?p=nhtsa/downloads/FARS/1987/\">1987/</a>,\n",
       " <a href=\"file-downloads?p=nhtsa/downloads/FARS/1988/\"><img src=\"/sites/nhtsa.gov/modules/nhtsa_s3/images/dir.png\" width=\"16px\"/></a>,\n",
       " <a href=\"file-downloads?p=nhtsa/downloads/FARS/1988/\">1988/</a>,\n",
       " <a href=\"file-downloads?p=nhtsa/downloads/FARS/1989/\"><img src=\"/sites/nhtsa.gov/modules/nhtsa_s3/images/dir.png\" width=\"16px\"/></a>,\n",
       " <a href=\"file-downloads?p=nhtsa/downloads/FARS/1989/\">1989/</a>,\n",
       " <a href=\"file-downloads?p=nhtsa/downloads/FARS/1990/\"><img src=\"/sites/nhtsa.gov/modules/nhtsa_s3/images/dir.png\" width=\"16px\"/></a>,\n",
       " <a href=\"file-downloads?p=nhtsa/downloads/FARS/1990/\">1990/</a>,\n",
       " <a href=\"file-downloads?p=nhtsa/downloads/FARS/1991/\"><img src=\"/sites/nhtsa.gov/modules/nhtsa_s3/images/dir.png\" width=\"16px\"/></a>,\n",
       " <a href=\"file-downloads?p=nhtsa/downloads/FARS/1991/\">1991/</a>,\n",
       " <a href=\"file-downloads?p=nhtsa/downloads/FARS/1992/\"><img src=\"/sites/nhtsa.gov/modules/nhtsa_s3/images/dir.png\" width=\"16px\"/></a>,\n",
       " <a href=\"file-downloads?p=nhtsa/downloads/FARS/1992/\">1992/</a>,\n",
       " <a href=\"file-downloads?p=nhtsa/downloads/FARS/1993/\"><img src=\"/sites/nhtsa.gov/modules/nhtsa_s3/images/dir.png\" width=\"16px\"/></a>,\n",
       " <a href=\"file-downloads?p=nhtsa/downloads/FARS/1993/\">1993/</a>,\n",
       " <a href=\"file-downloads?p=nhtsa/downloads/FARS/1994/\"><img src=\"/sites/nhtsa.gov/modules/nhtsa_s3/images/dir.png\" width=\"16px\"/></a>,\n",
       " <a href=\"file-downloads?p=nhtsa/downloads/FARS/1994/\">1994/</a>,\n",
       " <a href=\"file-downloads?p=nhtsa/downloads/FARS/1995/\"><img src=\"/sites/nhtsa.gov/modules/nhtsa_s3/images/dir.png\" width=\"16px\"/></a>,\n",
       " <a href=\"file-downloads?p=nhtsa/downloads/FARS/1995/\">1995/</a>,\n",
       " <a href=\"file-downloads?p=nhtsa/downloads/FARS/1996/\"><img src=\"/sites/nhtsa.gov/modules/nhtsa_s3/images/dir.png\" width=\"16px\"/></a>,\n",
       " <a href=\"file-downloads?p=nhtsa/downloads/FARS/1996/\">1996/</a>,\n",
       " <a href=\"file-downloads?p=nhtsa/downloads/FARS/1997/\"><img src=\"/sites/nhtsa.gov/modules/nhtsa_s3/images/dir.png\" width=\"16px\"/></a>,\n",
       " <a href=\"file-downloads?p=nhtsa/downloads/FARS/1997/\">1997/</a>,\n",
       " <a href=\"file-downloads?p=nhtsa/downloads/FARS/1998/\"><img src=\"/sites/nhtsa.gov/modules/nhtsa_s3/images/dir.png\" width=\"16px\"/></a>,\n",
       " <a href=\"file-downloads?p=nhtsa/downloads/FARS/1998/\">1998/</a>,\n",
       " <a href=\"file-downloads?p=nhtsa/downloads/FARS/1999/\"><img src=\"/sites/nhtsa.gov/modules/nhtsa_s3/images/dir.png\" width=\"16px\"/></a>,\n",
       " <a href=\"file-downloads?p=nhtsa/downloads/FARS/1999/\">1999/</a>,\n",
       " <a href=\"file-downloads?p=nhtsa/downloads/FARS/2000/\"><img src=\"/sites/nhtsa.gov/modules/nhtsa_s3/images/dir.png\" width=\"16px\"/></a>,\n",
       " <a href=\"file-downloads?p=nhtsa/downloads/FARS/2000/\">2000/</a>,\n",
       " <a href=\"file-downloads?p=nhtsa/downloads/FARS/2001/\"><img src=\"/sites/nhtsa.gov/modules/nhtsa_s3/images/dir.png\" width=\"16px\"/></a>,\n",
       " <a href=\"file-downloads?p=nhtsa/downloads/FARS/2001/\">2001/</a>,\n",
       " <a href=\"file-downloads?p=nhtsa/downloads/FARS/2002/\"><img src=\"/sites/nhtsa.gov/modules/nhtsa_s3/images/dir.png\" width=\"16px\"/></a>,\n",
       " <a href=\"file-downloads?p=nhtsa/downloads/FARS/2002/\">2002/</a>,\n",
       " <a href=\"file-downloads?p=nhtsa/downloads/FARS/2003/\"><img src=\"/sites/nhtsa.gov/modules/nhtsa_s3/images/dir.png\" width=\"16px\"/></a>,\n",
       " <a href=\"file-downloads?p=nhtsa/downloads/FARS/2003/\">2003/</a>,\n",
       " <a href=\"file-downloads?p=nhtsa/downloads/FARS/2004/\"><img src=\"/sites/nhtsa.gov/modules/nhtsa_s3/images/dir.png\" width=\"16px\"/></a>,\n",
       " <a href=\"file-downloads?p=nhtsa/downloads/FARS/2004/\">2004/</a>,\n",
       " <a href=\"file-downloads?p=nhtsa/downloads/FARS/2005/\"><img src=\"/sites/nhtsa.gov/modules/nhtsa_s3/images/dir.png\" width=\"16px\"/></a>,\n",
       " <a href=\"file-downloads?p=nhtsa/downloads/FARS/2005/\">2005/</a>,\n",
       " <a href=\"file-downloads?p=nhtsa/downloads/FARS/2006/\"><img src=\"/sites/nhtsa.gov/modules/nhtsa_s3/images/dir.png\" width=\"16px\"/></a>,\n",
       " <a href=\"file-downloads?p=nhtsa/downloads/FARS/2006/\">2006/</a>,\n",
       " <a href=\"file-downloads?p=nhtsa/downloads/FARS/2007/\"><img src=\"/sites/nhtsa.gov/modules/nhtsa_s3/images/dir.png\" width=\"16px\"/></a>,\n",
       " <a href=\"file-downloads?p=nhtsa/downloads/FARS/2007/\">2007/</a>,\n",
       " <a href=\"file-downloads?p=nhtsa/downloads/FARS/2008/\"><img src=\"/sites/nhtsa.gov/modules/nhtsa_s3/images/dir.png\" width=\"16px\"/></a>,\n",
       " <a href=\"file-downloads?p=nhtsa/downloads/FARS/2008/\">2008/</a>,\n",
       " <a href=\"file-downloads?p=nhtsa/downloads/FARS/2009/\"><img src=\"/sites/nhtsa.gov/modules/nhtsa_s3/images/dir.png\" width=\"16px\"/></a>,\n",
       " <a href=\"file-downloads?p=nhtsa/downloads/FARS/2009/\">2009/</a>,\n",
       " <a href=\"file-downloads?p=nhtsa/downloads/FARS/2010/\"><img src=\"/sites/nhtsa.gov/modules/nhtsa_s3/images/dir.png\" width=\"16px\"/></a>,\n",
       " <a href=\"file-downloads?p=nhtsa/downloads/FARS/2010/\">2010/</a>,\n",
       " <a href=\"file-downloads?p=nhtsa/downloads/FARS/2011/\"><img src=\"/sites/nhtsa.gov/modules/nhtsa_s3/images/dir.png\" width=\"16px\"/></a>,\n",
       " <a href=\"file-downloads?p=nhtsa/downloads/FARS/2011/\">2011/</a>,\n",
       " <a href=\"file-downloads?p=nhtsa/downloads/FARS/2012/\"><img src=\"/sites/nhtsa.gov/modules/nhtsa_s3/images/dir.png\" width=\"16px\"/></a>,\n",
       " <a href=\"file-downloads?p=nhtsa/downloads/FARS/2012/\">2012/</a>,\n",
       " <a href=\"file-downloads?p=nhtsa/downloads/FARS/2013/\"><img src=\"/sites/nhtsa.gov/modules/nhtsa_s3/images/dir.png\" width=\"16px\"/></a>,\n",
       " <a href=\"file-downloads?p=nhtsa/downloads/FARS/2013/\">2013/</a>,\n",
       " <a href=\"file-downloads?p=nhtsa/downloads/FARS/2014/\"><img src=\"/sites/nhtsa.gov/modules/nhtsa_s3/images/dir.png\" width=\"16px\"/></a>,\n",
       " <a href=\"file-downloads?p=nhtsa/downloads/FARS/2014/\">2014/</a>,\n",
       " <a href=\"file-downloads?p=nhtsa/downloads/FARS/2015/\"><img src=\"/sites/nhtsa.gov/modules/nhtsa_s3/images/dir.png\" width=\"16px\"/></a>,\n",
       " <a href=\"file-downloads?p=nhtsa/downloads/FARS/2015/\">2015/</a>,\n",
       " <a href=\"file-downloads?p=nhtsa/downloads/FARS/2016/\"><img src=\"/sites/nhtsa.gov/modules/nhtsa_s3/images/dir.png\" width=\"16px\"/></a>,\n",
       " <a href=\"file-downloads?p=nhtsa/downloads/FARS/2016/\">2016/</a>,\n",
       " <a href=\"file-downloads?p=nhtsa/downloads/FARS/2017/\"><img src=\"/sites/nhtsa.gov/modules/nhtsa_s3/images/dir.png\" width=\"16px\"/></a>,\n",
       " <a href=\"file-downloads?p=nhtsa/downloads/FARS/2017/\">2017/</a>,\n",
       " <a href=\"file-downloads?p=nhtsa/downloads/FARS/2018/\"><img src=\"/sites/nhtsa.gov/modules/nhtsa_s3/images/dir.png\" width=\"16px\"/></a>,\n",
       " <a href=\"file-downloads?p=nhtsa/downloads/FARS/2018/\">2018/</a>,\n",
       " <a href=\"file-downloads?p=nhtsa/downloads/FARS/2019/\"><img src=\"/sites/nhtsa.gov/modules/nhtsa_s3/images/dir.png\" width=\"16px\"/></a>,\n",
       " <a href=\"file-downloads?p=nhtsa/downloads/FARS/2019/\">2019/</a>,\n",
       " <a href=\"file-downloads?p=nhtsa/downloads/FARS/2020/\"><img src=\"/sites/nhtsa.gov/modules/nhtsa_s3/images/dir.png\" width=\"16px\"/></a>,\n",
       " <a href=\"file-downloads?p=nhtsa/downloads/FARS/2020/\">2020/</a>,\n",
       " <a href=\"file-downloads?p=nhtsa/downloads/FARS/Auxiliary_FARS_Files_Formats/\"><img src=\"/sites/nhtsa.gov/modules/nhtsa_s3/images/dir.png\" width=\"16px\"/></a>,\n",
       " <a href=\"file-downloads?p=nhtsa/downloads/FARS/Auxiliary_FARS_Files_Formats/\">Auxiliary_FARS_Files_Formats/</a>,\n",
       " <a href=\"file-downloads?p=nhtsa/downloads/FARS/FARS-GES Standardization/\"><img src=\"/sites/nhtsa.gov/modules/nhtsa_s3/images/dir.png\" width=\"16px\"/></a>,\n",
       " <a href=\"file-downloads?p=nhtsa/downloads/FARS/FARS-GES Standardization/\">FARS-GES Standardization/</a>,\n",
       " <a href=\"file-downloads?p=nhtsa/downloads/FARS/NLETS/\"><img src=\"/sites/nhtsa.gov/modules/nhtsa_s3/images/dir.png\" width=\"16px\"/></a>,\n",
       " <a href=\"file-downloads?p=nhtsa/downloads/FARS/NLETS/\">NLETS/</a>,\n",
       " <a href=\"/file-downloads/download?p=nhtsa/downloads/FARS/FileList.pdf\"><img src=\"/sites/nhtsa.gov/modules/nhtsa_s3/images/file.png\" width=\"16px\"/></a>,\n",
       " <a href=\"https://static.nhtsa.gov/nhtsa/downloads/FARS/FileList.pdf\">FileList.pdf</a>,\n",
       " <a href=\"/file-downloads/download?p=nhtsa/downloads/FARS/Links for FARS Manuals.pdf\"><img src=\"/sites/nhtsa.gov/modules/nhtsa_s3/images/file.png\" width=\"16px\"/></a>,\n",
       " <a href=\"https://static.nhtsa.gov/nhtsa/downloads/FARS/Links for FARS Manuals.pdf\">Links for FARS Manuals.pdf</a>,\n",
       " <a href=\"/file-downloads/download?p=nhtsa/downloads/FARS/README-BAC.pdf\"><img src=\"/sites/nhtsa.gov/modules/nhtsa_s3/images/file.png\" width=\"16px\"/></a>,\n",
       " <a href=\"https://static.nhtsa.gov/nhtsa/downloads/FARS/README-BAC.pdf\">README-BAC.pdf</a>,\n",
       " <a data-drupal-link-system-path=\"node/1032\" href=\"/about-nhtsa\">About NHTSA</a>,\n",
       " <a data-drupal-link-system-path=\"node/31796\" href=\"/about-nhtsa/working-nhtsa\">Careers &amp; Internships</a>,\n",
       " <a data-drupal-link-system-path=\"node/2346\" href=\"/about-nhtsa/contact-us\">Contact Us</a>,\n",
       " <a href=\"https://www-odi.nhtsa.dot.gov/nhtsa/subscriptions\">Sign Up for Recall Alerts</a>,\n",
       " <a data-drupal-link-system-path=\"node/102086\" href=\"/report-a-safety-problem\">Report a Safety Problem</a>,\n",
       " <a data-drupal-link-system-path=\"node/2396\" href=\"/vehicle-manufacturers\">Vehicle Manufacturers</a>,\n",
       " <a data-drupal-link-system-path=\"node/2501\" href=\"/highway-safety-grants-program\" title=\"Information and resources for States about highway safety grants.\">State Governments</a>,\n",
       " <a data-drupal-link-system-path=\"node/38271\" href=\"/enforcement-justice-services\" title=\"Information and resources for the Law Enforcement and Judicial community.\">Enforcement &amp; Justice</a>,\n",
       " <a href=\"https://www.trafficsafetymarketing.gov/\" title=\"\">TrafficSafetyMarketing.gov</a>,\n",
       " <a href=\"https://www.ems.gov/\" title=\"\">EMS.gov</a>,\n",
       " <a href=\"https://www.911.gov\" title=\"\">911.gov</a>,\n",
       " <a data-drupal-link-system-path=\"node/2351\" href=\"/about-nhtsa/web-policies-notices\">Web Policies &amp; Notices</a>,\n",
       " <a data-drupal-link-system-path=\"node/2356\" href=\"/about-nhtsa/accessibility\">Accessibility</a>,\n",
       " <a data-drupal-link-system-path=\"node/2361\" href=\"/about-nhtsa/foia\">FOIA</a>,\n",
       " <a data-drupal-link-system-path=\"node/31801\" href=\"/about-nhtsa/privacy-policy\">Privacy Policy</a>,\n",
       " <a href=\"https://www.transportation.gov/regulations/dot-information-dissemination-quality-guidelines\">Information Quality</a>,\n",
       " <a href=\"https://www.eeoc.gov/eeoc/statistics/nofear/qanda.cfm\" title=\"\">No Fear Act Data</a>,\n",
       " <a href=\"https://www.transportation.gov/ethics\" title=\"\">Ethics</a>,\n",
       " <a href=\"https://www.transportation.gov/civil-rights\" title=\"\">Civil Rights</a>,\n",
       " <a href=\"https://www.oig.dot.gov/\" title=\"\">Office of Inspector General</a>,\n",
       " <a href=\"https://www.oig.dot.gov/hotline\" title=\"\">OIG Hotline</a>,\n",
       " <a href=\"https://www.usa.gov/business\">BusinessUSA</a>,\n",
       " <a href=\"https://www.usa.gov/\" title=\"\">USA.gov</a>,\n",
       " <a href=\"https://www.whitehouse.gov/\" title=\"\">WhiteHouse.gov</a>,\n",
       " <a aria-label=\"Twitter\" class=\"footer-site--social-link\" href=\"https://twitter.com/@nhtsagov\" itemprop=\"sameAs\">\n",
       " <span class=\"icon-Twitter\"><span class=\"sr-only\">Twitter</span></span>\n",
       " </a>,\n",
       " <a aria-label=\"Facebook\" class=\"footer-site--social-link\" href=\"https://www.facebook.com/NHTSA\" itemprop=\"sameAs\">\n",
       " <span class=\"icon-Facebook\"><span class=\"sr-only\">Facebook</span></span>\n",
       " </a>,\n",
       " <a aria-label=\"YouTube\" class=\"footer-site--social-link\" href=\"https://www.youtube.com/user/usdotnhtsa\" itemprop=\"sameAs\">\n",
       " <span class=\"icon-Youtube\"><span class=\"sr-only\">Youtube</span></span>\n",
       " </a>,\n",
       " <a aria-label=\"Instagram\" class=\"footer-site--social-link\" href=\"https://www.instagram.com/nhtsagov\" itemprop=\"sameAs\">\n",
       " <span class=\"icon-Instagram\"><span class=\"sr-only\">Instagram</span></span>\n",
       " </a>,\n",
       " <a href=\"https://www.transportation.gov/\">\n",
       " <img alt=\"U.S. Department of Transportation\" data-src=\"/themes/custom/nhtsa/images/DOT-logo-with-text.svg\" style=\"width: 183px; height: 38px\"/>\n",
       " </a>,\n",
       " <a class=\"footer-site--feedback\" href=\"https://www.transportation.gov/feedback?title=NHTSA%20Page&amp;url=https%3A%2F%2Fnhtsa.gov%2F\">\n",
       " <span class=\"label label-primary\">\n",
       "         Submit Feedback &gt;\n",
       "       </span>\n",
       " </a>]"
      ]
     },
     "execution_count": 47,
     "metadata": {},
     "output_type": "execute_result"
    }
   ],
   "source": [
    "soup.find(\"tbody\").find_all_next(\"a\")"
   ]
  },
  {
   "cell_type": "code",
   "execution_count": 7,
   "id": "a84843d9",
   "metadata": {
    "scrolled": false
   },
   "outputs": [],
   "source": [
    "hyperlinks = soup.find(\"tbody\").findChildren(\"a\")"
   ]
  },
  {
   "cell_type": "code",
   "execution_count": 63,
   "id": "cc342743",
   "metadata": {},
   "outputs": [
    {
     "name": "stdout",
     "output_type": "stream",
     "text": [
      "['1975', '1975', '1976', '1976', '1977', '1977', '1978', '1978', '1979', '1979', '1980', '1980', '1981', '1981', '1982', '1982', '1983', '1983', '1984', '1984', '1985', '1985', '1986', '1986', '1987', '1987', '1988', '1988', '1989', '1989', '1990', '1990', '1991', '1991', '1992', '1992', '1993', '1993', '1994', '1994', '1995', '1995', '1996', '1996', '1997', '1997', '1998', '1998', '1999', '1999', '2000', '2000', '2001', '2001', '2002', '2002', '2003', '2003', '2004', '2004', '2005', '2005', '2006', '2006', '2007', '2007', '2008', '2008', '2009', '2009', '2010', '2010', '2011', '2011', '2012', '2012', '2013', '2013', '2014', '2014', '2015', '2015', '2016', '2016', '2017', '2017', '2018', '2018', '2019', '2019', '2020', '2020']\n"
     ]
    }
   ],
   "source": [
    "hyperlink_list = []\n",
    "for i in hyperlinks:\n",
    "    b = i['href'][38:42]\n",
    "    if b.isnumeric():\n",
    "        hyperlink_list.append(b)\n",
    "print(hyperlink_list)\n",
    "        \n",
    "hyperlink_list = list(dict.fromkeys(hyperlink_list))    \n",
    "for i in range(0,len(hyperlink_list)):\n",
    "    hyperlink_list[i] = url + hyperlink_list[i]+\"/\"\n",
    "    "
   ]
  },
  {
   "cell_type": "code",
   "execution_count": 21,
   "id": "47d5fade",
   "metadata": {},
   "outputs": [
    {
     "data": {
      "text/plain": [
       "52"
      ]
     },
     "execution_count": 21,
     "metadata": {},
     "output_type": "execute_result"
    }
   ],
   "source": [
    "str(hyperlinks[9]).index('\"',9)"
   ]
  },
  {
   "cell_type": "code",
   "execution_count": 22,
   "id": "a34d88fe",
   "metadata": {},
   "outputs": [
    {
     "data": {
      "text/plain": [
       "'file-downloads?p=nhtsa/downloads/FARS/1977/'"
      ]
     },
     "execution_count": 22,
     "metadata": {},
     "output_type": "execute_result"
    }
   ],
   "source": [
    "str(hyperlinks[9])[9:52]"
   ]
  },
  {
   "cell_type": "code",
   "execution_count": 25,
   "id": "078e2283",
   "metadata": {},
   "outputs": [
    {
     "data": {
      "text/plain": [
       "str"
      ]
     },
     "execution_count": 25,
     "metadata": {},
     "output_type": "execute_result"
    }
   ],
   "source": [
    "hyperlinks[1]['href']"
   ]
  },
  {
   "cell_type": "code",
   "execution_count": 37,
   "id": "4fe94cbf",
   "metadata": {},
   "outputs": [
    {
     "data": {
      "text/plain": [
       "'1975'"
      ]
     },
     "execution_count": 37,
     "metadata": {},
     "output_type": "execute_result"
    }
   ],
   "source": [
    "hyperlink_list[5][38:42]"
   ]
  },
  {
   "cell_type": "code",
   "execution_count": 64,
   "id": "92128794",
   "metadata": {
    "scrolled": true
   },
   "outputs": [
    {
     "data": {
      "text/plain": [
       "['https://www.nhtsa.gov/file-downloads?p=nhtsa/downloads/FARS/1975/',\n",
       " 'https://www.nhtsa.gov/file-downloads?p=nhtsa/downloads/FARS/1976/',\n",
       " 'https://www.nhtsa.gov/file-downloads?p=nhtsa/downloads/FARS/1977/',\n",
       " 'https://www.nhtsa.gov/file-downloads?p=nhtsa/downloads/FARS/1978/',\n",
       " 'https://www.nhtsa.gov/file-downloads?p=nhtsa/downloads/FARS/1979/',\n",
       " 'https://www.nhtsa.gov/file-downloads?p=nhtsa/downloads/FARS/1980/',\n",
       " 'https://www.nhtsa.gov/file-downloads?p=nhtsa/downloads/FARS/1981/',\n",
       " 'https://www.nhtsa.gov/file-downloads?p=nhtsa/downloads/FARS/1982/',\n",
       " 'https://www.nhtsa.gov/file-downloads?p=nhtsa/downloads/FARS/1983/',\n",
       " 'https://www.nhtsa.gov/file-downloads?p=nhtsa/downloads/FARS/1984/',\n",
       " 'https://www.nhtsa.gov/file-downloads?p=nhtsa/downloads/FARS/1985/',\n",
       " 'https://www.nhtsa.gov/file-downloads?p=nhtsa/downloads/FARS/1986/',\n",
       " 'https://www.nhtsa.gov/file-downloads?p=nhtsa/downloads/FARS/1987/',\n",
       " 'https://www.nhtsa.gov/file-downloads?p=nhtsa/downloads/FARS/1988/',\n",
       " 'https://www.nhtsa.gov/file-downloads?p=nhtsa/downloads/FARS/1989/',\n",
       " 'https://www.nhtsa.gov/file-downloads?p=nhtsa/downloads/FARS/1990/',\n",
       " 'https://www.nhtsa.gov/file-downloads?p=nhtsa/downloads/FARS/1991/',\n",
       " 'https://www.nhtsa.gov/file-downloads?p=nhtsa/downloads/FARS/1992/',\n",
       " 'https://www.nhtsa.gov/file-downloads?p=nhtsa/downloads/FARS/1993/',\n",
       " 'https://www.nhtsa.gov/file-downloads?p=nhtsa/downloads/FARS/1994/',\n",
       " 'https://www.nhtsa.gov/file-downloads?p=nhtsa/downloads/FARS/1995/',\n",
       " 'https://www.nhtsa.gov/file-downloads?p=nhtsa/downloads/FARS/1996/',\n",
       " 'https://www.nhtsa.gov/file-downloads?p=nhtsa/downloads/FARS/1997/',\n",
       " 'https://www.nhtsa.gov/file-downloads?p=nhtsa/downloads/FARS/1998/',\n",
       " 'https://www.nhtsa.gov/file-downloads?p=nhtsa/downloads/FARS/1999/',\n",
       " 'https://www.nhtsa.gov/file-downloads?p=nhtsa/downloads/FARS/2000/',\n",
       " 'https://www.nhtsa.gov/file-downloads?p=nhtsa/downloads/FARS/2001/',\n",
       " 'https://www.nhtsa.gov/file-downloads?p=nhtsa/downloads/FARS/2002/',\n",
       " 'https://www.nhtsa.gov/file-downloads?p=nhtsa/downloads/FARS/2003/',\n",
       " 'https://www.nhtsa.gov/file-downloads?p=nhtsa/downloads/FARS/2004/',\n",
       " 'https://www.nhtsa.gov/file-downloads?p=nhtsa/downloads/FARS/2005/',\n",
       " 'https://www.nhtsa.gov/file-downloads?p=nhtsa/downloads/FARS/2006/',\n",
       " 'https://www.nhtsa.gov/file-downloads?p=nhtsa/downloads/FARS/2007/',\n",
       " 'https://www.nhtsa.gov/file-downloads?p=nhtsa/downloads/FARS/2008/',\n",
       " 'https://www.nhtsa.gov/file-downloads?p=nhtsa/downloads/FARS/2009/',\n",
       " 'https://www.nhtsa.gov/file-downloads?p=nhtsa/downloads/FARS/2010/',\n",
       " 'https://www.nhtsa.gov/file-downloads?p=nhtsa/downloads/FARS/2011/',\n",
       " 'https://www.nhtsa.gov/file-downloads?p=nhtsa/downloads/FARS/2012/',\n",
       " 'https://www.nhtsa.gov/file-downloads?p=nhtsa/downloads/FARS/2013/',\n",
       " 'https://www.nhtsa.gov/file-downloads?p=nhtsa/downloads/FARS/2014/',\n",
       " 'https://www.nhtsa.gov/file-downloads?p=nhtsa/downloads/FARS/2015/',\n",
       " 'https://www.nhtsa.gov/file-downloads?p=nhtsa/downloads/FARS/2016/',\n",
       " 'https://www.nhtsa.gov/file-downloads?p=nhtsa/downloads/FARS/2017/',\n",
       " 'https://www.nhtsa.gov/file-downloads?p=nhtsa/downloads/FARS/2018/',\n",
       " 'https://www.nhtsa.gov/file-downloads?p=nhtsa/downloads/FARS/2019/',\n",
       " 'https://www.nhtsa.gov/file-downloads?p=nhtsa/downloads/FARS/2020/']"
      ]
     },
     "execution_count": 64,
     "metadata": {},
     "output_type": "execute_result"
    }
   ],
   "source": [
    "hyperlink_list"
   ]
  },
  {
   "cell_type": "code",
   "execution_count": 78,
   "id": "93f154a6",
   "metadata": {},
   "outputs": [],
   "source": [
    "National_CSV_list = []\n",
    "for i in hyperlink_list:\n",
    "    National_CSV_list.append((i+'National/'+'FARS'+i[-5:-1]+'NationalCSV.zip').replace('www','static').replace('file-downloads?p=',''))\n",
    "National_Auxiliary_CSV_list = []\n",
    "for i in hyperlink_list:\n",
    "    if int(i[-5:-1])>1981:\n",
    "        National_Auxiliary_CSV_list.append((i+'National/'+'FARS'+i[-5:-1]+'NationalAuxiliaryCSV.zip').replace('www','static').replace('file-downloads?p=',''))"
   ]
  },
  {
   "cell_type": "code",
   "execution_count": 55,
   "id": "ec483f69",
   "metadata": {},
   "outputs": [
    {
     "data": {
      "text/plain": [
       "'1976'"
      ]
     },
     "execution_count": 55,
     "metadata": {},
     "output_type": "execute_result"
    }
   ],
   "source": [
    "hyperlink_list[1][-5:-1]"
   ]
  },
  {
   "cell_type": "code",
   "execution_count": 77,
   "id": "66bc8a1c",
   "metadata": {
    "scrolled": true
   },
   "outputs": [
    {
     "ename": "SyntaxError",
     "evalue": "invalid syntax (<ipython-input-77-4848147021f3>, line 1)",
     "output_type": "error",
     "traceback": [
      "\u001b[1;36m  File \u001b[1;32m\"<ipython-input-77-4848147021f3>\"\u001b[1;36m, line \u001b[1;32m1\u001b[0m\n\u001b[1;33m    https://static.nhtsa.gov/nhtsa/downloads/FARS/1985/National/FARS1985NationalAuxiliaryCSV.zip\u001b[0m\n\u001b[1;37m          ^\u001b[0m\n\u001b[1;31mSyntaxError\u001b[0m\u001b[1;31m:\u001b[0m invalid syntax\n"
     ]
    }
   ],
   "source": [
    "https://static.nhtsa.gov/nhtsa/downloads/FARS/1985/National/FARS1985NationalAuxiliaryCSV.zip"
   ]
  },
  {
   "cell_type": "code",
   "execution_count": 76,
   "id": "37c15102",
   "metadata": {
    "scrolled": true
   },
   "outputs": [
    {
     "data": {
      "text/plain": [
       "['https://static.nhtsa.gov/nhtsa/downloads/FARS/1975/National/FARS1975NationalCSV.zip',\n",
       " 'https://static.nhtsa.gov/nhtsa/downloads/FARS/1976/National/FARS1976NationalCSV.zip',\n",
       " 'https://static.nhtsa.gov/nhtsa/downloads/FARS/1977/National/FARS1977NationalCSV.zip',\n",
       " 'https://static.nhtsa.gov/nhtsa/downloads/FARS/1978/National/FARS1978NationalCSV.zip',\n",
       " 'https://static.nhtsa.gov/nhtsa/downloads/FARS/1979/National/FARS1979NationalCSV.zip',\n",
       " 'https://static.nhtsa.gov/nhtsa/downloads/FARS/1980/National/FARS1980NationalCSV.zip',\n",
       " 'https://static.nhtsa.gov/nhtsa/downloads/FARS/1981/National/FARS1981NationalCSV.zip',\n",
       " 'https://static.nhtsa.gov/nhtsa/downloads/FARS/1982/National/FARS1982NationalCSV.zip',\n",
       " 'https://static.nhtsa.gov/nhtsa/downloads/FARS/1983/National/FARS1983NationalCSV.zip',\n",
       " 'https://static.nhtsa.gov/nhtsa/downloads/FARS/1984/National/FARS1984NationalCSV.zip',\n",
       " 'https://static.nhtsa.gov/nhtsa/downloads/FARS/1985/National/FARS1985NationalCSV.zip',\n",
       " 'https://static.nhtsa.gov/nhtsa/downloads/FARS/1986/National/FARS1986NationalCSV.zip',\n",
       " 'https://static.nhtsa.gov/nhtsa/downloads/FARS/1987/National/FARS1987NationalCSV.zip',\n",
       " 'https://static.nhtsa.gov/nhtsa/downloads/FARS/1988/National/FARS1988NationalCSV.zip',\n",
       " 'https://static.nhtsa.gov/nhtsa/downloads/FARS/1989/National/FARS1989NationalCSV.zip',\n",
       " 'https://static.nhtsa.gov/nhtsa/downloads/FARS/1990/National/FARS1990NationalCSV.zip',\n",
       " 'https://static.nhtsa.gov/nhtsa/downloads/FARS/1991/National/FARS1991NationalCSV.zip',\n",
       " 'https://static.nhtsa.gov/nhtsa/downloads/FARS/1992/National/FARS1992NationalCSV.zip',\n",
       " 'https://static.nhtsa.gov/nhtsa/downloads/FARS/1993/National/FARS1993NationalCSV.zip',\n",
       " 'https://static.nhtsa.gov/nhtsa/downloads/FARS/1994/National/FARS1994NationalCSV.zip',\n",
       " 'https://static.nhtsa.gov/nhtsa/downloads/FARS/1995/National/FARS1995NationalCSV.zip',\n",
       " 'https://static.nhtsa.gov/nhtsa/downloads/FARS/1996/National/FARS1996NationalCSV.zip',\n",
       " 'https://static.nhtsa.gov/nhtsa/downloads/FARS/1997/National/FARS1997NationalCSV.zip',\n",
       " 'https://static.nhtsa.gov/nhtsa/downloads/FARS/1998/National/FARS1998NationalCSV.zip',\n",
       " 'https://static.nhtsa.gov/nhtsa/downloads/FARS/1999/National/FARS1999NationalCSV.zip',\n",
       " 'https://static.nhtsa.gov/nhtsa/downloads/FARS/2000/National/FARS2000NationalCSV.zip',\n",
       " 'https://static.nhtsa.gov/nhtsa/downloads/FARS/2001/National/FARS2001NationalCSV.zip',\n",
       " 'https://static.nhtsa.gov/nhtsa/downloads/FARS/2002/National/FARS2002NationalCSV.zip',\n",
       " 'https://static.nhtsa.gov/nhtsa/downloads/FARS/2003/National/FARS2003NationalCSV.zip',\n",
       " 'https://static.nhtsa.gov/nhtsa/downloads/FARS/2004/National/FARS2004NationalCSV.zip',\n",
       " 'https://static.nhtsa.gov/nhtsa/downloads/FARS/2005/National/FARS2005NationalCSV.zip',\n",
       " 'https://static.nhtsa.gov/nhtsa/downloads/FARS/2006/National/FARS2006NationalCSV.zip',\n",
       " 'https://static.nhtsa.gov/nhtsa/downloads/FARS/2007/National/FARS2007NationalCSV.zip',\n",
       " 'https://static.nhtsa.gov/nhtsa/downloads/FARS/2008/National/FARS2008NationalCSV.zip',\n",
       " 'https://static.nhtsa.gov/nhtsa/downloads/FARS/2009/National/FARS2009NationalCSV.zip',\n",
       " 'https://static.nhtsa.gov/nhtsa/downloads/FARS/2010/National/FARS2010NationalCSV.zip',\n",
       " 'https://static.nhtsa.gov/nhtsa/downloads/FARS/2011/National/FARS2011NationalCSV.zip',\n",
       " 'https://static.nhtsa.gov/nhtsa/downloads/FARS/2012/National/FARS2012NationalCSV.zip',\n",
       " 'https://static.nhtsa.gov/nhtsa/downloads/FARS/2013/National/FARS2013NationalCSV.zip',\n",
       " 'https://static.nhtsa.gov/nhtsa/downloads/FARS/2014/National/FARS2014NationalCSV.zip',\n",
       " 'https://static.nhtsa.gov/nhtsa/downloads/FARS/2015/National/FARS2015NationalCSV.zip',\n",
       " 'https://static.nhtsa.gov/nhtsa/downloads/FARS/2016/National/FARS2016NationalCSV.zip',\n",
       " 'https://static.nhtsa.gov/nhtsa/downloads/FARS/2017/National/FARS2017NationalCSV.zip',\n",
       " 'https://static.nhtsa.gov/nhtsa/downloads/FARS/2018/National/FARS2018NationalCSV.zip',\n",
       " 'https://static.nhtsa.gov/nhtsa/downloads/FARS/2019/National/FARS2019NationalCSV.zip',\n",
       " 'https://static.nhtsa.gov/nhtsa/downloads/FARS/2020/National/FARS2020NationalCSV.zip']"
      ]
     },
     "execution_count": 76,
     "metadata": {},
     "output_type": "execute_result"
    }
   ],
   "source": [
    "National_CSV_list"
   ]
  },
  {
   "cell_type": "code",
   "execution_count": 79,
   "id": "eeb8dc71",
   "metadata": {},
   "outputs": [
    {
     "data": {
      "text/plain": [
       "['https://static.nhtsa.gov/nhtsa/downloads/FARS/1982/National/FARS1982NationalAuxiliaryCSV.zip',\n",
       " 'https://static.nhtsa.gov/nhtsa/downloads/FARS/1983/National/FARS1983NationalAuxiliaryCSV.zip',\n",
       " 'https://static.nhtsa.gov/nhtsa/downloads/FARS/1984/National/FARS1984NationalAuxiliaryCSV.zip',\n",
       " 'https://static.nhtsa.gov/nhtsa/downloads/FARS/1985/National/FARS1985NationalAuxiliaryCSV.zip',\n",
       " 'https://static.nhtsa.gov/nhtsa/downloads/FARS/1986/National/FARS1986NationalAuxiliaryCSV.zip',\n",
       " 'https://static.nhtsa.gov/nhtsa/downloads/FARS/1987/National/FARS1987NationalAuxiliaryCSV.zip',\n",
       " 'https://static.nhtsa.gov/nhtsa/downloads/FARS/1988/National/FARS1988NationalAuxiliaryCSV.zip',\n",
       " 'https://static.nhtsa.gov/nhtsa/downloads/FARS/1989/National/FARS1989NationalAuxiliaryCSV.zip',\n",
       " 'https://static.nhtsa.gov/nhtsa/downloads/FARS/1990/National/FARS1990NationalAuxiliaryCSV.zip',\n",
       " 'https://static.nhtsa.gov/nhtsa/downloads/FARS/1991/National/FARS1991NationalAuxiliaryCSV.zip',\n",
       " 'https://static.nhtsa.gov/nhtsa/downloads/FARS/1992/National/FARS1992NationalAuxiliaryCSV.zip',\n",
       " 'https://static.nhtsa.gov/nhtsa/downloads/FARS/1993/National/FARS1993NationalAuxiliaryCSV.zip',\n",
       " 'https://static.nhtsa.gov/nhtsa/downloads/FARS/1994/National/FARS1994NationalAuxiliaryCSV.zip',\n",
       " 'https://static.nhtsa.gov/nhtsa/downloads/FARS/1995/National/FARS1995NationalAuxiliaryCSV.zip',\n",
       " 'https://static.nhtsa.gov/nhtsa/downloads/FARS/1996/National/FARS1996NationalAuxiliaryCSV.zip',\n",
       " 'https://static.nhtsa.gov/nhtsa/downloads/FARS/1997/National/FARS1997NationalAuxiliaryCSV.zip',\n",
       " 'https://static.nhtsa.gov/nhtsa/downloads/FARS/1998/National/FARS1998NationalAuxiliaryCSV.zip',\n",
       " 'https://static.nhtsa.gov/nhtsa/downloads/FARS/1999/National/FARS1999NationalAuxiliaryCSV.zip',\n",
       " 'https://static.nhtsa.gov/nhtsa/downloads/FARS/2000/National/FARS2000NationalAuxiliaryCSV.zip',\n",
       " 'https://static.nhtsa.gov/nhtsa/downloads/FARS/2001/National/FARS2001NationalAuxiliaryCSV.zip',\n",
       " 'https://static.nhtsa.gov/nhtsa/downloads/FARS/2002/National/FARS2002NationalAuxiliaryCSV.zip',\n",
       " 'https://static.nhtsa.gov/nhtsa/downloads/FARS/2003/National/FARS2003NationalAuxiliaryCSV.zip',\n",
       " 'https://static.nhtsa.gov/nhtsa/downloads/FARS/2004/National/FARS2004NationalAuxiliaryCSV.zip',\n",
       " 'https://static.nhtsa.gov/nhtsa/downloads/FARS/2005/National/FARS2005NationalAuxiliaryCSV.zip',\n",
       " 'https://static.nhtsa.gov/nhtsa/downloads/FARS/2006/National/FARS2006NationalAuxiliaryCSV.zip',\n",
       " 'https://static.nhtsa.gov/nhtsa/downloads/FARS/2007/National/FARS2007NationalAuxiliaryCSV.zip',\n",
       " 'https://static.nhtsa.gov/nhtsa/downloads/FARS/2008/National/FARS2008NationalAuxiliaryCSV.zip',\n",
       " 'https://static.nhtsa.gov/nhtsa/downloads/FARS/2009/National/FARS2009NationalAuxiliaryCSV.zip',\n",
       " 'https://static.nhtsa.gov/nhtsa/downloads/FARS/2010/National/FARS2010NationalAuxiliaryCSV.zip',\n",
       " 'https://static.nhtsa.gov/nhtsa/downloads/FARS/2011/National/FARS2011NationalAuxiliaryCSV.zip',\n",
       " 'https://static.nhtsa.gov/nhtsa/downloads/FARS/2012/National/FARS2012NationalAuxiliaryCSV.zip',\n",
       " 'https://static.nhtsa.gov/nhtsa/downloads/FARS/2013/National/FARS2013NationalAuxiliaryCSV.zip',\n",
       " 'https://static.nhtsa.gov/nhtsa/downloads/FARS/2014/National/FARS2014NationalAuxiliaryCSV.zip',\n",
       " 'https://static.nhtsa.gov/nhtsa/downloads/FARS/2015/National/FARS2015NationalAuxiliaryCSV.zip',\n",
       " 'https://static.nhtsa.gov/nhtsa/downloads/FARS/2016/National/FARS2016NationalAuxiliaryCSV.zip',\n",
       " 'https://static.nhtsa.gov/nhtsa/downloads/FARS/2017/National/FARS2017NationalAuxiliaryCSV.zip',\n",
       " 'https://static.nhtsa.gov/nhtsa/downloads/FARS/2018/National/FARS2018NationalAuxiliaryCSV.zip',\n",
       " 'https://static.nhtsa.gov/nhtsa/downloads/FARS/2019/National/FARS2019NationalAuxiliaryCSV.zip',\n",
       " 'https://static.nhtsa.gov/nhtsa/downloads/FARS/2020/National/FARS2020NationalAuxiliaryCSV.zip']"
      ]
     },
     "execution_count": 79,
     "metadata": {},
     "output_type": "execute_result"
    }
   ],
   "source": [
    "National_Auxiliary_CSV_list"
   ]
  }
 ],
 "metadata": {
  "kernelspec": {
   "display_name": "Python 3",
   "language": "python",
   "name": "python3"
  },
  "language_info": {
   "codemirror_mode": {
    "name": "ipython",
    "version": 3
   },
   "file_extension": ".py",
   "mimetype": "text/x-python",
   "name": "python",
   "nbconvert_exporter": "python",
   "pygments_lexer": "ipython3",
   "version": "3.8.8"
  }
 },
 "nbformat": 4,
 "nbformat_minor": 5
}
